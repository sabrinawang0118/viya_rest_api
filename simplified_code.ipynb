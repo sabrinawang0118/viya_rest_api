{
 "cells": [
  {
   "cell_type": "code",
   "execution_count": null,
   "metadata": {},
   "outputs": [],
   "source": [
    "#import requests and json modules\n",
    "import requests as request\n",
    "import json\n",
    "import time\n",
    "import config\n",
    "\n",
    "#import config variables\n",
    "base_url =config.base_url\n",
    "job_url =config.job_url\n",
    "username =config.username\n",
    "password = config.password\n",
    "oAuthCliendId =config.oAuthCliendId\n",
    "oAuthClientSecret =config.oAuthClientSecret\n",
    "# macro ='MSRP'\n",
    "\n",
    "#generate token\n",
    "url = base_url + '/SASLogon/oauth/token'\n",
    "\n",
    "# pass headers to API\n",
    "headers = { \n",
    "    'content-type': 'application/x-www-form-urlencoded' \n",
    "    }\n",
    "payload = 'grant_type=password&username=' + username + '&password=' + password\n",
    "r = request.post(url, payload, headers=headers, auth=(oAuthCliendId, oAuthClientSecret))\n",
    "responseObj = json.loads(r.text)\n",
    "oAuthAccessToken = responseObj['access_token']\n",
    "\n",
    "# submit job\n",
    "url= job_url +'&_action=json&_resultfile=*&_omittextlog=false'\n",
    "# url= job_url +'&param='+macro + '&_action=json&_resultfile=*&_omittextlog=false'\n",
    "headers = {\n",
    "  'Authorization': 'bearer ' + oAuthAccessToken,\n",
    "  'Content-Type': 'application/vnd.sas.job.execution.job.request',\n",
    "  'Accept': 'application/vnd.sas.job.execution.job'\n",
    "}\n",
    "\n",
    "r = request.post(url, headers = headers).json()\n",
    "print(r)\n",
    "\n",
    "#construct url to retrieve log and output table\n",
    "log_uri= base_url+ r[1]['href']\n",
    "output_uri = base_url +  r[2]['href']\n",
    "\n",
    "#generate log file\n",
    "log_str = request.get(log_uri, headers = headers).text\n",
    "\n",
    "filename = \"Log_\"+time.strftime(\"%Y%m%d-%H%M%S\")+\".txt\"\n",
    "with open(filename, \"w\") as log:\n",
    "    log.write(log_str)\n",
    "\n",
    "\n",
    "#generate output table(s) file\n",
    "output_str = request.get(output_uri, headers = headers).text\n",
    "filename =\"Output_\"+time.strftime(\"%Y%m%d-%H%M%S\")+\".html\"\n",
    "with open(filename, \"w\") as output_html:\n",
    "    output_html.write(output_str)"
   ]
  }
 ],
 "metadata": {
  "kernelspec": {
   "display_name": "Python 3",
   "language": "python",
   "name": "python3"
  },
  "language_info": {
   "codemirror_mode": {
    "name": "ipython",
    "version": 3
   },
   "file_extension": ".py",
   "mimetype": "text/x-python",
   "name": "python",
   "nbconvert_exporter": "python",
   "pygments_lexer": "ipython3",
   "version": "3.7.4"
  }
 },
 "nbformat": 4,
 "nbformat_minor": 4
}
