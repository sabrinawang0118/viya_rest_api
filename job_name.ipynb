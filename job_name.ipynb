{
 "cells": [
  {
   "cell_type": "code",
   "execution_count": null,
   "metadata": {},
   "outputs": [],
   "source": [
    "#import requests and json modules\n",
    "import requests as request\n",
    "import json\n",
    "import time\n",
    "import config"
   ]
  },
  {
   "cell_type": "code",
   "execution_count": null,
   "metadata": {},
   "outputs": [],
   "source": [
    "base_url =\"your_base_url\"\n",
    "job_url =\"your job url\"\n",
    "token =\"your token\"\n",
    "# folder where you store your sas jobs; for example:\n",
    "folder_path= \"/Users/sawang/My%20Folder/testFolder/\""
   ]
  },
  {
   "cell_type": "code",
   "execution_count": null,
   "metadata": {},
   "outputs": [],
   "source": [
    "#run this cell to dynamically enter job name; enter name of the sas job, for instance: job_123\n",
    "jobName = str(input(\"Enter jobName\")) "
   ]
  },
  {
   "cell_type": "code",
   "execution_count": null,
   "metadata": {},
   "outputs": [],
   "source": [
    "url= base_url +'/SASJobExecution/?_program='+ folder_path+job_name+'&_action=json&_resultfile=*&_omittextlog=false'\n",
    "\n",
    "headers = {\n",
    "  'Authorization': 'bearer ' + oAuthAccessToken,\n",
    "  'Content-Type': 'application/vnd.sas.job.execution.job.request',\n",
    "  'Accept': 'application/vnd.sas.job.execution.job'\n",
    "}\n",
    "\n",
    "r = request.post(url, headers = headers).json()\n",
    "print(r)"
   ]
  },
  {
   "cell_type": "code",
   "execution_count": null,
   "metadata": {},
   "outputs": [],
   "source": [
    "#construct url to retrieve log and output table\n",
    "log_uri= base_url+ r[1]['href']\n",
    "output_uri = base_url +  r[2]['href']"
   ]
  },
  {
   "cell_type": "code",
   "execution_count": null,
   "metadata": {},
   "outputs": [],
   "source": [
    "headers = {\n",
    "  'Authorization': 'bearer ' + oAuthAccessToken,\n",
    "}\n",
    "\n",
    "#generate log file\n",
    "log_str = request.get(log_uri, headers = headers).text\n",
    "\n",
    "filename = \"Log_\"+time.strftime(\"%Y%m%d-%H%M%S\")+\".txt\"\n",
    "with open(filename, \"w\") as log:\n",
    "    log.write(log_str)\n",
    "\n",
    "\n",
    "#generate output table(s) file\n",
    "output_str = request.get(output_uri, headers = headers).text\n",
    "filename =\"Output_\"+time.strftime(\"%Y%m%d-%H%M%S\")+\".html\"\n",
    "with open(filename, \"w\") as output_html:\n",
    "    output_html.write(output_str)"
   ]
  },
  {
   "cell_type": "code",
   "execution_count": null,
   "metadata": {},
   "outputs": [],
   "source": []
  }
 ],
 "metadata": {
  "kernelspec": {
   "display_name": "Python 3",
   "language": "python",
   "name": "python3"
  },
  "language_info": {
   "codemirror_mode": {
    "name": "ipython",
    "version": 3
   },
   "file_extension": ".py",
   "mimetype": "text/x-python",
   "name": "python",
   "nbconvert_exporter": "python",
   "pygments_lexer": "ipython3",
   "version": "3.7.4"
  }
 },
 "nbformat": 4,
 "nbformat_minor": 4
}
